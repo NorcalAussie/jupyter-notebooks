{
 "cells": [
  {
   "cell_type": "code",
   "execution_count": 22,
   "metadata": {
    "collapsed": false
   },
   "outputs": [],
   "source": [
    "import quandl\n",
    "import pandas as pd\n",
    "import pickle"
   ]
  },
  {
   "cell_type": "code",
   "execution_count": 23,
   "metadata": {
    "collapsed": true
   },
   "outputs": [],
   "source": [
    "api_key = \"cJyyA_ZTZtPYzCMZrfsD\""
   ]
  },
  {
   "cell_type": "code",
   "execution_count": 24,
   "metadata": {
    "collapsed": true
   },
   "outputs": [],
   "source": [
    "df = quandl.get('FMAC/HPI_AK', authtoken=api_key)"
   ]
  },
  {
   "cell_type": "code",
   "execution_count": 25,
   "metadata": {
    "collapsed": false
   },
   "outputs": [
    {
     "data": {
      "text/html": [
       "<div>\n",
       "<table border=\"1\" class=\"dataframe\">\n",
       "  <thead>\n",
       "    <tr style=\"text-align: right;\">\n",
       "      <th></th>\n",
       "      <th>Value</th>\n",
       "    </tr>\n",
       "    <tr>\n",
       "      <th>Date</th>\n",
       "      <th></th>\n",
       "    </tr>\n",
       "  </thead>\n",
       "  <tbody>\n",
       "    <tr>\n",
       "      <th>1975-01-31</th>\n",
       "      <td>34.447924</td>\n",
       "    </tr>\n",
       "    <tr>\n",
       "      <th>1975-02-28</th>\n",
       "      <td>34.958144</td>\n",
       "    </tr>\n",
       "    <tr>\n",
       "      <th>1975-03-31</th>\n",
       "      <td>35.480144</td>\n",
       "    </tr>\n",
       "    <tr>\n",
       "      <th>1975-04-30</th>\n",
       "      <td>36.024334</td>\n",
       "    </tr>\n",
       "    <tr>\n",
       "      <th>1975-05-31</th>\n",
       "      <td>36.617578</td>\n",
       "    </tr>\n",
       "  </tbody>\n",
       "</table>\n",
       "</div>"
      ],
      "text/plain": [
       "                Value\n",
       "Date                 \n",
       "1975-01-31  34.447924\n",
       "1975-02-28  34.958144\n",
       "1975-03-31  35.480144\n",
       "1975-04-30  36.024334\n",
       "1975-05-31  36.617578"
      ]
     },
     "execution_count": 25,
     "metadata": {},
     "output_type": "execute_result"
    }
   ],
   "source": [
    "df.head()"
   ]
  },
  {
   "cell_type": "code",
   "execution_count": 26,
   "metadata": {
    "collapsed": false
   },
   "outputs": [],
   "source": [
    "def state_list():\n",
    "    fiddy_states = pd.read_html('https://simple.wikipedia.org/wiki/List_of_U.S._states')\n",
    "    print(fiddy_states[0][0])\n",
    "    return fiddy_states[0][0][1:]"
   ]
  },
  {
   "cell_type": "code",
   "execution_count": 29,
   "metadata": {
    "collapsed": false
   },
   "outputs": [
    {
     "name": "stdout",
     "output_type": "stream",
     "text": [
      "0     Abbreviation\n",
      "1               AL\n",
      "2               AK\n",
      "3               AZ\n",
      "4               AR\n",
      "5               CA\n",
      "6               CO\n",
      "7               CT\n",
      "8               DE\n",
      "9               FL\n",
      "10              GA\n",
      "11              HI\n",
      "12              ID\n",
      "13              IL\n",
      "14              IN\n",
      "15              IA\n",
      "16              KS\n",
      "17              KY\n",
      "18              LA\n",
      "19              ME\n",
      "20              MD\n",
      "21              MA\n",
      "22              MI\n",
      "23              MN\n",
      "24              MS\n",
      "25              MO\n",
      "26              MT\n",
      "27              NE\n",
      "28              NV\n",
      "29              NH\n",
      "30              NJ\n",
      "31              NM\n",
      "32              NY\n",
      "33              NC\n",
      "34              ND\n",
      "35              OH\n",
      "36              OK\n",
      "37              OR\n",
      "38              PA\n",
      "39              RI\n",
      "40              SC\n",
      "41              SD\n",
      "42              TN\n",
      "43              TX\n",
      "44              UT\n",
      "45              VT\n",
      "46              VA\n",
      "47              WA\n",
      "48              WV\n",
      "49              WI\n",
      "50              WY\n",
      "Name: 0, dtype: object\n",
      "                   WY\n",
      "Date                 \n",
      "1975-01-31  31.545673\n",
      "1975-02-28  32.035235\n",
      "1975-03-31  32.551748\n",
      "1975-04-30  33.083411\n",
      "1975-05-31  33.596747\n"
     ]
    }
   ],
   "source": [
    "def grab_initial_state_data():\n",
    "    states = state_list()\n",
    "    main_df = pd.DataFrame()\n",
    "\n",
    "    for abbr in fiddy_states[0][0][1:]:\n",
    "        query = \"FMAC/HPI_\"+str(abbr)\n",
    "        df = quandl.get(query, authtoken=api_key)\n",
    "        df.rename(columns={'Value':str(abbr)}, inplace=True)\n",
    "    \n",
    "    if main_df.empty:\n",
    "        main_df = df\n",
    "    else:\n",
    "        main_df = main_df.join(df)\n",
    "            \n",
    "    print(main_df.head())\n",
    "\n",
    "    pickle_out = open('fiddy_states.pickle', 'wb')\n",
    "    pickle.dump(main_df, pickle_out)\n",
    "    pickle_out.close()\n",
    "    \n",
    "# grab_initial_state_data()"
   ]
  },
  {
   "cell_type": "code",
   "execution_count": 30,
   "metadata": {
    "collapsed": false
   },
   "outputs": [
    {
     "name": "stdout",
     "output_type": "stream",
     "text": [
      "                    WY\n",
      "Date                  \n",
      "1975-01-31   31.545673\n",
      "1975-02-28   32.035235\n",
      "1975-03-31   32.551748\n",
      "1975-04-30   33.083411\n",
      "1975-05-31   33.596747\n",
      "1975-06-30   34.076272\n",
      "1975-07-31   34.520567\n",
      "1975-08-31   34.916654\n",
      "1975-09-30   35.253480\n",
      "1975-10-31   35.508485\n",
      "1975-11-30   35.683141\n",
      "1975-12-31   35.806300\n",
      "1976-01-31   35.913634\n",
      "1976-02-29   36.053984\n",
      "1976-03-31   36.256550\n",
      "1976-04-30   36.525231\n",
      "1976-05-31   36.878829\n",
      "1976-06-30   37.351699\n",
      "1976-07-31   37.924994\n",
      "1976-08-31   38.522753\n",
      "1976-09-30   39.115625\n",
      "1976-10-31   39.716081\n",
      "1976-11-30   40.283066\n",
      "1976-12-31   40.743919\n",
      "1977-01-31   41.102446\n",
      "1977-02-28   41.421948\n",
      "1977-03-31   41.742970\n",
      "1977-04-30   42.086374\n",
      "1977-05-31   42.481734\n",
      "1977-06-30   42.982446\n",
      "...                ...\n",
      "2014-07-31  179.258606\n",
      "2014-08-31  179.392013\n",
      "2014-09-30  179.396086\n",
      "2014-10-31  179.510707\n",
      "2014-11-30  179.712288\n",
      "2014-12-31  179.891022\n",
      "2015-01-31  180.105806\n",
      "2015-02-28  180.471082\n",
      "2015-03-31  181.261513\n",
      "2015-04-30  182.630473\n",
      "2015-05-31  184.396585\n",
      "2015-06-30  186.149010\n",
      "2015-07-31  187.344260\n",
      "2015-08-31  187.597183\n",
      "2015-09-30  187.083218\n",
      "2015-10-31  186.133662\n",
      "2015-11-30  184.963085\n",
      "2015-12-31  183.965413\n",
      "2016-01-31  183.522170\n",
      "2016-02-29  183.778872\n",
      "2016-03-31  184.667392\n",
      "2016-04-30  185.854634\n",
      "2016-05-31  186.874771\n",
      "2016-06-30  187.646238\n",
      "2016-07-31  188.318810\n",
      "2016-08-31  188.893288\n",
      "2016-09-30  189.023606\n",
      "2016-10-31  188.310749\n",
      "2016-11-30  187.033177\n",
      "2016-12-31  185.993542\n",
      "\n",
      "[504 rows x 1 columns]\n"
     ]
    }
   ],
   "source": [
    "pickle_in = open('fiddy_states.pickle', 'rb')\n",
    "HPI_data = pickle.load(pickle_in)\n",
    "print(HPI_data)"
   ]
  },
  {
   "cell_type": "code",
   "execution_count": null,
   "metadata": {
    "collapsed": true
   },
   "outputs": [],
   "source": []
  }
 ],
 "metadata": {
  "kernelspec": {
   "display_name": "Python 3",
   "language": "python",
   "name": "python3"
  },
  "language_info": {
   "codemirror_mode": {
    "name": "ipython",
    "version": 3
   },
   "file_extension": ".py",
   "mimetype": "text/x-python",
   "name": "python",
   "nbconvert_exporter": "python",
   "pygments_lexer": "ipython3",
   "version": "3.6.0"
  }
 },
 "nbformat": 4,
 "nbformat_minor": 2
}
